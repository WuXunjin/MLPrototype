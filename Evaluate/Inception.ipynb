{
 "cells": [
  {
   "cell_type": "code",
   "execution_count": 50,
   "metadata": {},
   "outputs": [],
   "source": [
    "import torch\n",
    "from torch import nn\n",
    "from torch.autograd import Variable\n",
    "from torch.nn import functional as F\n",
    "import torch.utils.data\n",
    "\n",
    "from torchvision.models.inception import inception_v3\n",
    "\n",
    "import numpy as np\n",
    "\n",
    "# to calculate KL-divergence\n",
    "from scipy.stats import entropy\n",
    "\n",
    "import math\n",
    "from torchvision.models import inception_v3\n",
    "\n",
    "\n",
    "net = inception_v3(pretrained=True).cuda()\n"
   ]
  },
  {
   "cell_type": "code",
   "execution_count": 51,
   "metadata": {},
   "outputs": [],
   "source": [
    "# add the loadDataset function [required as an interface to custom dataloaders]\n",
    "import sys\n",
    "sys.path.append('../')\n",
    "from Datasets.loadDataset import loadDataset, getChannels\n",
    "reload(sys.modules[loadDataset.__module__])\n",
    "\n",
    "cuda = 1\n",
    "\n",
    "batchSize = 256\n",
    "\n",
    "primaryDataset = 'SVHN'\n",
    "numPrimaryOutputChannels = getChannels(primaryDataset)\n",
    "\n",
    "classes = [0]\n",
    "instances = [7000 for i in range(10)]\n",
    "kwargs = {'num_workers': 1, 'pin_memory': True, 'drop_last':True} if cuda else {}\n",
    "\n",
    "\n",
    "trainDatasetPrimary = loadDataset(primaryDataset, classes, instances,'train')\n",
    "\n",
    "primaryTrainLoader = torch.utils.data.DataLoader(trainDatasetPrimary, batch_size=batchSize, shuffle=True, **kwargs)"
   ]
  },
  {
   "cell_type": "code",
   "execution_count": 52,
   "metadata": {},
   "outputs": [],
   "source": [
    "class IgnoreLabelDataset(torch.utils.data.Dataset):\n",
    "    def __init__(self, orig):\n",
    "        self.orig = orig\n",
    "\n",
    "    def __getitem__(self, index):\n",
    "        return self.orig[index][0]\n",
    "\n",
    "    def __len__(self):\n",
    "        return len(self.orig)"
   ]
  },
  {
   "cell_type": "code",
   "execution_count": 54,
   "metadata": {},
   "outputs": [],
   "source": [
    "def get_pred(x, model, resize=True):\n",
    "    \n",
    "    dtype = get_dtype()\n",
    "    \n",
    "    if resize:\n",
    "        x = nn.Upsample(size=(299, 299), mode='bilinear').type(dtype)(x)\n",
    "    x = model(x)\n",
    "    return F.softmax(x).data.cpu().numpy()"
   ]
  },
  {
   "cell_type": "code",
   "execution_count": 55,
   "metadata": {},
   "outputs": [],
   "source": [
    "def get_dtype():\n",
    "    # Set up dtype\n",
    "    if cuda:\n",
    "        dtype = torch.cuda.FloatTensor\n",
    "    else:\n",
    "        if torch.cuda.is_available():\n",
    "            print(\"WARNING: You have a CUDA device, so you should probably set cuda=True\")\n",
    "        dtype = torch.FloatTensor\n",
    "    return dtype"
   ]
  },
  {
   "cell_type": "code",
   "execution_count": 56,
   "metadata": {},
   "outputs": [
    {
     "name": "stdout",
     "output_type": "stream",
     "text": [
      "Calculating Inception Score...\n",
      "(2.5737165545806788, 0.067893171940134556)\n"
     ]
    }
   ],
   "source": [
    " def inception_score(imgs, cuda=True, batch_size=32, resize=False, splits=1):\n",
    "    \n",
    "    \"\"\"\n",
    "    Computes the inception score of the generated images imgs\n",
    "    imgs -- Torch dataset of (3xHxW) numpy images normalized in the range [-1, 1]\n",
    "    cuda -- whether or not to run on GPU\n",
    "    batch_size -- batch size for feeding into Inception v3\n",
    "    splits -- number of splits\n",
    "    \"\"\"\n",
    "\n",
    "    \n",
    "    N = len(imgs)\n",
    "\n",
    "    assert batch_size > 0\n",
    "    assert N > batch_size\n",
    "\n",
    "    dtype = get_dtype()\n",
    "        \n",
    "    # model to be used\n",
    "    inception_model = inception_v3(pretrained=True, transform_input=False).type(dtype)\n",
    "    inception_model.eval();\n",
    "    \n",
    "    # Set up dataloader\n",
    "    dataloader = torch.utils.data.DataLoader(imgs, batch_size=batch_size)\n",
    "\n",
    "\n",
    "    # Get predictions\n",
    "    preds = np.zeros((N, 1000))\n",
    "\n",
    "    for i, batch in enumerate(dataloader, 0):\n",
    "        batch = batch.type(dtype)\n",
    "        batchv = Variable(batch)\n",
    "        batch_size_i = batch.size()[0]\n",
    "\n",
    "        preds[i*batch_size:i*batch_size + batch_size_i] = get_pred(batchv, inception_model)\n",
    "\n",
    "    # Now compute the mean kl-div\n",
    "    split_scores = []\n",
    "\n",
    "    for k in range(splits):\n",
    "        part = preds[k * (N // splits): (k+1) * (N // splits), :]\n",
    "        py = np.mean(part, axis=0)\n",
    "        scores = []\n",
    "        for i in range(part.shape[0]):\n",
    "            pyx = part[i, :]\n",
    "            scores.append(entropy(pyx, py))\n",
    "        split_scores.append(np.exp(np.mean(scores)))\n",
    "    \n",
    "    # return the mean and standard deviation of inception score\n",
    "    return np.mean(split_scores), np.std(split_scores)\n",
    "\n",
    "if __name__ == '__main__':\n",
    "\n",
    "    print (\"Calculating Inception Score...\")\n",
    "    print (inception_score(IgnoreLabelDataset(trainDatasetPrimary), cuda=True, batch_size=32, resize=True, splits=10))"
   ]
  },
  {
   "cell_type": "code",
   "execution_count": null,
   "metadata": {},
   "outputs": [],
   "source": []
  },
  {
   "cell_type": "code",
   "execution_count": null,
   "metadata": {},
   "outputs": [],
   "source": []
  }
 ],
 "metadata": {
  "kernelspec": {
   "display_name": "Python 2",
   "language": "python",
   "name": "python2"
  },
  "language_info": {
   "codemirror_mode": {
    "name": "ipython",
    "version": 2
   },
   "file_extension": ".py",
   "mimetype": "text/x-python",
   "name": "python",
   "nbconvert_exporter": "python",
   "pygments_lexer": "ipython2",
   "version": "2.7.12"
  }
 },
 "nbformat": 4,
 "nbformat_minor": 2
}
